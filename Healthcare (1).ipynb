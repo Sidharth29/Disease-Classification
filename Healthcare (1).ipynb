{
 "cells": [
  {
   "cell_type": "code",
   "execution_count": 209,
   "metadata": {
    "collapsed": true
   },
   "outputs": [],
   "source": [
    "import pandas as pd\n",
    "import numpy as np\n",
    "from sklearn.model_selection import train_test_split\n",
    "import matplotlib.pyplot as plt\n",
    "import seaborn as sns\n",
    "from sklearn import metrics\n",
    "std_seed=0\n",
    "%matplotlib inline"
   ]
  },
  {
   "cell_type": "code",
   "execution_count": 210,
   "metadata": {
    "collapsed": false
   },
   "outputs": [
    {
     "data": {
      "text/html": [
       "<div>\n",
       "<table border=\"1\" class=\"dataframe\">\n",
       "  <thead>\n",
       "    <tr style=\"text-align: right;\">\n",
       "      <th></th>\n",
       "      <th>Row</th>\n",
       "      <th>x1</th>\n",
       "      <th>x2</th>\n",
       "      <th>x3</th>\n",
       "      <th>x4</th>\n",
       "      <th>x5</th>\n",
       "      <th>x6</th>\n",
       "      <th>x7</th>\n",
       "      <th>x8</th>\n",
       "      <th>x9</th>\n",
       "      <th>...</th>\n",
       "      <th>x58</th>\n",
       "      <th>x59</th>\n",
       "      <th>x60</th>\n",
       "      <th>x61</th>\n",
       "      <th>x62</th>\n",
       "      <th>x63</th>\n",
       "      <th>x64</th>\n",
       "      <th>x65</th>\n",
       "      <th>x66</th>\n",
       "      <th>y</th>\n",
       "    </tr>\n",
       "  </thead>\n",
       "  <tbody>\n",
       "    <tr>\n",
       "      <th>0</th>\n",
       "      <td>1.0</td>\n",
       "      <td>27.0</td>\n",
       "      <td>1.0</td>\n",
       "      <td>1.0</td>\n",
       "      <td>1.0</td>\n",
       "      <td>A</td>\n",
       "      <td>18.0</td>\n",
       "      <td>3.0</td>\n",
       "      <td>1.0</td>\n",
       "      <td>28.0</td>\n",
       "      <td>...</td>\n",
       "      <td>1.0</td>\n",
       "      <td>0.0</td>\n",
       "      <td>0.0</td>\n",
       "      <td>0.0</td>\n",
       "      <td>0.0</td>\n",
       "      <td>1.0</td>\n",
       "      <td>Mp</td>\n",
       "      <td>NPT</td>\n",
       "      <td>1.0</td>\n",
       "      <td>-1</td>\n",
       "    </tr>\n",
       "    <tr>\n",
       "      <th>1</th>\n",
       "      <td>2.0</td>\n",
       "      <td>30.0</td>\n",
       "      <td>0.0</td>\n",
       "      <td>1.0</td>\n",
       "      <td>1.0</td>\n",
       "      <td>B</td>\n",
       "      <td>18.0</td>\n",
       "      <td>13.0</td>\n",
       "      <td>3.0</td>\n",
       "      <td>19.0</td>\n",
       "      <td>...</td>\n",
       "      <td>1.0</td>\n",
       "      <td>0.0</td>\n",
       "      <td>0.0</td>\n",
       "      <td>0.0</td>\n",
       "      <td>0.0</td>\n",
       "      <td>0.0</td>\n",
       "      <td>Mm</td>\n",
       "      <td>NST</td>\n",
       "      <td>1.0</td>\n",
       "      <td>-1</td>\n",
       "    </tr>\n",
       "    <tr>\n",
       "      <th>2</th>\n",
       "      <td>3.0</td>\n",
       "      <td>37.0</td>\n",
       "      <td>0.0</td>\n",
       "      <td>1.0</td>\n",
       "      <td>1.0</td>\n",
       "      <td>A</td>\n",
       "      <td>1.0</td>\n",
       "      <td>3.0</td>\n",
       "      <td>14.0</td>\n",
       "      <td>33.0</td>\n",
       "      <td>...</td>\n",
       "      <td>1.0</td>\n",
       "      <td>0.0</td>\n",
       "      <td>0.0</td>\n",
       "      <td>0.0</td>\n",
       "      <td>0.0</td>\n",
       "      <td>0.0</td>\n",
       "      <td>Mp</td>\n",
       "      <td>NPT</td>\n",
       "      <td>0.0</td>\n",
       "      <td>1</td>\n",
       "    </tr>\n",
       "    <tr>\n",
       "      <th>3</th>\n",
       "      <td>4.0</td>\n",
       "      <td>29.0</td>\n",
       "      <td>0.0</td>\n",
       "      <td>1.0</td>\n",
       "      <td>1.0</td>\n",
       "      <td>C</td>\n",
       "      <td>14.0</td>\n",
       "      <td>9.0</td>\n",
       "      <td>3.0</td>\n",
       "      <td>29.0</td>\n",
       "      <td>...</td>\n",
       "      <td>0.0</td>\n",
       "      <td>0.0</td>\n",
       "      <td>0.0</td>\n",
       "      <td>0.0</td>\n",
       "      <td>0.0</td>\n",
       "      <td>0.0</td>\n",
       "      <td>Mp</td>\n",
       "      <td>NST</td>\n",
       "      <td>0.0</td>\n",
       "      <td>-1</td>\n",
       "    </tr>\n",
       "    <tr>\n",
       "      <th>4</th>\n",
       "      <td>5.0</td>\n",
       "      <td>33.0</td>\n",
       "      <td>1.0</td>\n",
       "      <td>1.0</td>\n",
       "      <td>0.0</td>\n",
       "      <td>E</td>\n",
       "      <td>2.0</td>\n",
       "      <td>15.0</td>\n",
       "      <td>12.0</td>\n",
       "      <td>39.0</td>\n",
       "      <td>...</td>\n",
       "      <td>1.0</td>\n",
       "      <td>0.0</td>\n",
       "      <td>0.0</td>\n",
       "      <td>0.0</td>\n",
       "      <td>0.0</td>\n",
       "      <td>0.0</td>\n",
       "      <td>Mm</td>\n",
       "      <td>NST</td>\n",
       "      <td>1.0</td>\n",
       "      <td>-1</td>\n",
       "    </tr>\n",
       "  </tbody>\n",
       "</table>\n",
       "<p>5 rows × 68 columns</p>\n",
       "</div>"
      ],
      "text/plain": [
       "   Row    x1   x2   x3   x4 x5    x6    x7    x8    x9 ...  x58  x59  x60  \\\n",
       "0  1.0  27.0  1.0  1.0  1.0  A  18.0   3.0   1.0  28.0 ...  1.0  0.0  0.0   \n",
       "1  2.0  30.0  0.0  1.0  1.0  B  18.0  13.0   3.0  19.0 ...  1.0  0.0  0.0   \n",
       "2  3.0  37.0  0.0  1.0  1.0  A   1.0   3.0  14.0  33.0 ...  1.0  0.0  0.0   \n",
       "3  4.0  29.0  0.0  1.0  1.0  C  14.0   9.0   3.0  29.0 ...  0.0  0.0  0.0   \n",
       "4  5.0  33.0  1.0  1.0  0.0  E   2.0  15.0  12.0  39.0 ...  1.0  0.0  0.0   \n",
       "\n",
       "   x61  x62  x63  x64  x65  x66  y  \n",
       "0  0.0  0.0  1.0   Mp  NPT  1.0 -1  \n",
       "1  0.0  0.0  0.0   Mm  NST  1.0 -1  \n",
       "2  0.0  0.0  0.0   Mp  NPT  0.0  1  \n",
       "3  0.0  0.0  0.0   Mp  NST  0.0 -1  \n",
       "4  0.0  0.0  0.0   Mm  NST  1.0 -1  \n",
       "\n",
       "[5 rows x 68 columns]"
      ]
     },
     "execution_count": 210,
     "metadata": {},
     "output_type": "execute_result"
    }
   ],
   "source": [
    "data = pd.read_csv('Healthcare.csv')\n",
    "data.head()"
   ]
  },
  {
   "cell_type": "code",
   "execution_count": 211,
   "metadata": {
    "collapsed": false
   },
   "outputs": [
    {
     "data": {
      "text/plain": [
       "(2501, 68)"
      ]
     },
     "execution_count": 211,
     "metadata": {},
     "output_type": "execute_result"
    }
   ],
   "source": [
    "data.shape\n",
    "#Observations = 2501 \n",
    "#Columns = 68 (features-66, target-1)"
   ]
  },
  {
   "cell_type": "code",
   "execution_count": 212,
   "metadata": {
    "collapsed": false
   },
   "outputs": [
    {
     "data": {
      "text/plain": [
       "Row     True\n",
       "x1      True\n",
       "x2      True\n",
       "x3      True\n",
       "x4      True\n",
       "x5      True\n",
       "x6      True\n",
       "x7      True\n",
       "x8      True\n",
       "x9      True\n",
       "x10     True\n",
       "x11     True\n",
       "x12     True\n",
       "x13     True\n",
       "x14     True\n",
       "x15     True\n",
       "x16     True\n",
       "x17     True\n",
       "x18     True\n",
       "x19     True\n",
       "x20     True\n",
       "x21     True\n",
       "x22     True\n",
       "x23     True\n",
       "x24     True\n",
       "x25     True\n",
       "x26     True\n",
       "x27     True\n",
       "x28     True\n",
       "x29     True\n",
       "       ...  \n",
       "x38     True\n",
       "x39     True\n",
       "x40     True\n",
       "x41     True\n",
       "x42     True\n",
       "x43     True\n",
       "x44     True\n",
       "x45     True\n",
       "x46     True\n",
       "x47     True\n",
       "x48     True\n",
       "x49     True\n",
       "x50     True\n",
       "x51     True\n",
       "x52     True\n",
       "x53     True\n",
       "x54     True\n",
       "x55     True\n",
       "x56     True\n",
       "x57     True\n",
       "x58     True\n",
       "x59     True\n",
       "x60     True\n",
       "x61     True\n",
       "x62     True\n",
       "x63     True\n",
       "x64     True\n",
       "x65     True\n",
       "x66     True\n",
       "y      False\n",
       "dtype: bool"
      ]
     },
     "execution_count": 212,
     "metadata": {},
     "output_type": "execute_result"
    }
   ],
   "source": [
    "# CHecking for null values\n",
    "data.isnull().any()"
   ]
  },
  {
   "cell_type": "markdown",
   "metadata": {},
   "source": [
    "### Preprocessing"
   ]
  },
  {
   "cell_type": "code",
   "execution_count": 213,
   "metadata": {
    "collapsed": false
   },
   "outputs": [],
   "source": [
    "#Removing null values\n",
    "data = data.dropna(how='any',axis=0)"
   ]
  },
  {
   "cell_type": "code",
   "execution_count": 214,
   "metadata": {
    "collapsed": false
   },
   "outputs": [
    {
     "data": {
      "text/plain": [
       "<matplotlib.axes._subplots.AxesSubplot at 0x25ecf4c22b0>"
      ]
     },
     "execution_count": 214,
     "metadata": {},
     "output_type": "execute_result"
    },
    {
     "data": {
      "image/png": "[encoded data removed]",
      "text/plain": [
       "<matplotlib.figure.Figure at 0x25ed3044080>"
      ]
     },
     "metadata": {},
     "output_type": "display_data"
    }
   ],
   "source": [
    "#Plotting heatmap to gauge multicollinearity in dataset\n",
    "fig = plt.subplots(figsize=(15,15)) \n",
    "sns.heatmap(data.corr())"
   ]
  },
  {
   "cell_type": "markdown",
   "metadata": {},
   "source": [
    "#### Upon observation we find sparse multicollinearity that can be ignored "
   ]
  },
  {
   "cell_type": "code",
   "execution_count": 215,
   "metadata": {
    "collapsed": false
   },
   "outputs": [
    {
     "data": {
      "text/html": [
       "<div>\n",
       "<table border=\"1\" class=\"dataframe\">\n",
       "  <thead>\n",
       "    <tr style=\"text-align: right;\">\n",
       "      <th></th>\n",
       "      <th>Row</th>\n",
       "      <th>x1</th>\n",
       "      <th>x2</th>\n",
       "      <th>x3</th>\n",
       "      <th>x4</th>\n",
       "      <th>x6</th>\n",
       "      <th>x7</th>\n",
       "      <th>x8</th>\n",
       "      <th>x9</th>\n",
       "      <th>x10</th>\n",
       "      <th>...</th>\n",
       "      <th>x5_D</th>\n",
       "      <th>x5_E</th>\n",
       "      <th>x13_beta</th>\n",
       "      <th>x13_chi</th>\n",
       "      <th>x64_Mk</th>\n",
       "      <th>x64_Mm</th>\n",
       "      <th>x64_Mp</th>\n",
       "      <th>x65_NST</th>\n",
       "      <th>x65_PT</th>\n",
       "      <th>x65_ST</th>\n",
       "    </tr>\n",
       "  </thead>\n",
       "  <tbody>\n",
       "    <tr>\n",
       "      <th>0</th>\n",
       "      <td>1.0</td>\n",
       "      <td>27.0</td>\n",
       "      <td>1.0</td>\n",
       "      <td>1.0</td>\n",
       "      <td>1.0</td>\n",
       "      <td>18.0</td>\n",
       "      <td>3.0</td>\n",
       "      <td>1.0</td>\n",
       "      <td>28.0</td>\n",
       "      <td>119.9</td>\n",
       "      <td>...</td>\n",
       "      <td>0</td>\n",
       "      <td>0</td>\n",
       "      <td>1</td>\n",
       "      <td>0</td>\n",
       "      <td>0</td>\n",
       "      <td>0</td>\n",
       "      <td>1</td>\n",
       "      <td>0</td>\n",
       "      <td>0</td>\n",
       "      <td>0</td>\n",
       "    </tr>\n",
       "    <tr>\n",
       "      <th>1</th>\n",
       "      <td>2.0</td>\n",
       "      <td>30.0</td>\n",
       "      <td>0.0</td>\n",
       "      <td>1.0</td>\n",
       "      <td>1.0</td>\n",
       "      <td>18.0</td>\n",
       "      <td>13.0</td>\n",
       "      <td>3.0</td>\n",
       "      <td>19.0</td>\n",
       "      <td>86.7</td>\n",
       "      <td>...</td>\n",
       "      <td>0</td>\n",
       "      <td>0</td>\n",
       "      <td>0</td>\n",
       "      <td>1</td>\n",
       "      <td>0</td>\n",
       "      <td>1</td>\n",
       "      <td>0</td>\n",
       "      <td>1</td>\n",
       "      <td>0</td>\n",
       "      <td>0</td>\n",
       "    </tr>\n",
       "    <tr>\n",
       "      <th>2</th>\n",
       "      <td>3.0</td>\n",
       "      <td>37.0</td>\n",
       "      <td>0.0</td>\n",
       "      <td>1.0</td>\n",
       "      <td>1.0</td>\n",
       "      <td>1.0</td>\n",
       "      <td>3.0</td>\n",
       "      <td>14.0</td>\n",
       "      <td>33.0</td>\n",
       "      <td>174.0</td>\n",
       "      <td>...</td>\n",
       "      <td>0</td>\n",
       "      <td>0</td>\n",
       "      <td>1</td>\n",
       "      <td>0</td>\n",
       "      <td>0</td>\n",
       "      <td>0</td>\n",
       "      <td>1</td>\n",
       "      <td>0</td>\n",
       "      <td>0</td>\n",
       "      <td>0</td>\n",
       "    </tr>\n",
       "    <tr>\n",
       "      <th>3</th>\n",
       "      <td>4.0</td>\n",
       "      <td>29.0</td>\n",
       "      <td>0.0</td>\n",
       "      <td>1.0</td>\n",
       "      <td>1.0</td>\n",
       "      <td>14.0</td>\n",
       "      <td>9.0</td>\n",
       "      <td>3.0</td>\n",
       "      <td>29.0</td>\n",
       "      <td>8.8</td>\n",
       "      <td>...</td>\n",
       "      <td>0</td>\n",
       "      <td>0</td>\n",
       "      <td>0</td>\n",
       "      <td>1</td>\n",
       "      <td>0</td>\n",
       "      <td>0</td>\n",
       "      <td>1</td>\n",
       "      <td>1</td>\n",
       "      <td>0</td>\n",
       "      <td>0</td>\n",
       "    </tr>\n",
       "    <tr>\n",
       "      <th>4</th>\n",
       "      <td>5.0</td>\n",
       "      <td>33.0</td>\n",
       "      <td>1.0</td>\n",
       "      <td>1.0</td>\n",
       "      <td>0.0</td>\n",
       "      <td>2.0</td>\n",
       "      <td>15.0</td>\n",
       "      <td>12.0</td>\n",
       "      <td>39.0</td>\n",
       "      <td>55.0</td>\n",
       "      <td>...</td>\n",
       "      <td>0</td>\n",
       "      <td>1</td>\n",
       "      <td>1</td>\n",
       "      <td>0</td>\n",
       "      <td>0</td>\n",
       "      <td>1</td>\n",
       "      <td>0</td>\n",
       "      <td>1</td>\n",
       "      <td>0</td>\n",
       "      <td>0</td>\n",
       "    </tr>\n",
       "  </tbody>\n",
       "</table>\n",
       "<p>5 rows × 76 columns</p>\n",
       "</div>"
      ],
      "text/plain": [
       "   Row    x1   x2   x3   x4    x6    x7    x8    x9    x10   ...    x5_D  \\\n",
       "0  1.0  27.0  1.0  1.0  1.0  18.0   3.0   1.0  28.0  119.9   ...       0   \n",
       "1  2.0  30.0  0.0  1.0  1.0  18.0  13.0   3.0  19.0   86.7   ...       0   \n",
       "2  3.0  37.0  0.0  1.0  1.0   1.0   3.0  14.0  33.0  174.0   ...       0   \n",
       "3  4.0  29.0  0.0  1.0  1.0  14.0   9.0   3.0  29.0    8.8   ...       0   \n",
       "4  5.0  33.0  1.0  1.0  0.0   2.0  15.0  12.0  39.0   55.0   ...       0   \n",
       "\n",
       "   x5_E  x13_beta  x13_chi  x64_Mk  x64_Mm  x64_Mp  x65_NST  x65_PT  x65_ST  \n",
       "0     0         1        0       0       0       1        0       0       0  \n",
       "1     0         0        1       0       1       0        1       0       0  \n",
       "2     0         1        0       0       0       1        0       0       0  \n",
       "3     0         0        1       0       0       1        1       0       0  \n",
       "4     1         1        0       0       1       0        1       0       0  \n",
       "\n",
       "[5 rows x 76 columns]"
      ]
     },
     "execution_count": 215,
     "metadata": {},
     "output_type": "execute_result"
    }
   ],
   "source": [
    "#Encoding categorical features\n",
    "cat_cols = [col for col in data.columns \n",
    "           if data[col].dtype=='object']\n",
    "ord_cols = [col for col in data.columns\n",
    "           if data[col].dtype in('float64','int64')]\n",
    "dum_data = pd.get_dummies(data[cat_cols],drop_first='True')\n",
    "dat = pd.concat([data[ord_cols],dum_data],axis=1)\n",
    "dat.head()"
   ]
  },
  {
   "cell_type": "code",
   "execution_count": 216,
   "metadata": {
    "collapsed": false
   },
   "outputs": [],
   "source": [
    "#Splitting the columns into predictors and target\n",
    "x = dat.iloc[:,1:-1]\n",
    "x.drop(['y'],axis=1,inplace=True)\n",
    "y = dat['y']"
   ]
  },
  {
   "cell_type": "code",
   "execution_count": 217,
   "metadata": {
    "collapsed": true
   },
   "outputs": [],
   "source": [
    "#Performing the train test split\n",
    "X_train,X_test,y_train,y_test=train_test_split(x,y,test_size=0.3,random_state=std_seed)"
   ]
  },
  {
   "cell_type": "code",
   "execution_count": 218,
   "metadata": {
    "collapsed": false
   },
   "outputs": [
    {
     "data": {
      "text/plain": [
       "-1    1323\n",
       " 1     427\n",
       "Name: y, dtype: int64"
      ]
     },
     "execution_count": 218,
     "metadata": {},
     "output_type": "execute_result"
    }
   ],
   "source": [
    "#Imbalance in values of target\n",
    "y_train.value_counts()"
   ]
  },
  {
   "cell_type": "code",
   "execution_count": 219,
   "metadata": {
    "collapsed": false
   },
   "outputs": [
    {
     "data": {
      "image/png": "[encoded data removed]",
      "text/plain": [
       "<matplotlib.figure.Figure at 0x25ed2c4c390>"
      ]
     },
     "metadata": {},
     "output_type": "display_data"
    }
   ],
   "source": [
    "fig = plt.figure(figsize=(20,1))\n",
    "plt.style.use('seaborn-ticks')\n",
    "sns.countplot(y=y_train)\n",
    "plt.title(\"Class Imbalance\", fontsize = 22)\n",
    "plt.xlabel('Count of Observations',fontsize = 12)\n",
    "plt.style.use(\"seaborn-muted\")"
   ]
  },
  {
   "cell_type": "code",
   "execution_count": 220,
   "metadata": {
    "collapsed": false
   },
   "outputs": [],
   "source": [
    "train_data = pd.concat([X_train,y_train],axis=1)"
   ]
  },
  {
   "cell_type": "markdown",
   "metadata": {},
   "source": [
    "### Upsampling the minority class of the training data to use in model building if model is influenced by the skew in class imbalance to produce disproportionate error rates for the different classes"
   ]
  },
  {
   "cell_type": "code",
   "execution_count": 221,
   "metadata": {
    "collapsed": false
   },
   "outputs": [],
   "source": [
    "majority_class = train_data[train_data['y']==-1]\n",
    "minority_class = train_data[train_data['y']==1]"
   ]
  },
  {
   "cell_type": "code",
   "execution_count": 222,
   "metadata": {
    "collapsed": false
   },
   "outputs": [],
   "source": [
    "from sklearn.utils import resample\n",
    "upsampled_minority = resample(minority_class,replace=True,n_samples=1323,random_state=std_seed)\n",
    "data_upsampled = pd.concat([majority_class,upsampled_minority],axis=0)\n",
    "#The minority class is upsampled with replacement to obtain an equal number of observations as the majority class"
   ]
  },
  {
   "cell_type": "code",
   "execution_count": 223,
   "metadata": {
    "collapsed": false
   },
   "outputs": [
    {
     "data": {
      "text/plain": [
       " 1    1323\n",
       "-1    1323\n",
       "Name: y, dtype: int64"
      ]
     },
     "execution_count": 223,
     "metadata": {},
     "output_type": "execute_result"
    }
   ],
   "source": [
    "data_upsampled['y'].value_counts()"
   ]
  },
  {
   "cell_type": "code",
   "execution_count": 224,
   "metadata": {
    "collapsed": false
   },
   "outputs": [
    {
     "data": {
      "image/png": "[encoded data removed]",
      "text/plain": [
       "<matplotlib.figure.Figure at 0x25ed2c08b70>"
      ]
     },
     "metadata": {},
     "output_type": "display_data"
    }
   ],
   "source": [
    "fig = plt.figure(figsize=(20,1))\n",
    "plt.style.use('seaborn-talk')\n",
    "sns.countplot(y=\"y\", data=data_upsampled)\n",
    "plt.title(\"Class Imbalance\", fontsize = 22)\n",
    "plt.xlabel('Count of Observations',fontsize = 12)\n",
    "plt.style.use(\"seaborn-muted\")"
   ]
  },
  {
   "cell_type": "code",
   "execution_count": 225,
   "metadata": {
    "collapsed": false
   },
   "outputs": [
    {
     "data": {
      "text/plain": [
       "1988   -1\n",
       "1969   -1\n",
       "1368   -1\n",
       "840    -1\n",
       "2488   -1\n",
       "Name: y, dtype: int64"
      ]
     },
     "execution_count": 225,
     "metadata": {},
     "output_type": "execute_result"
    }
   ],
   "source": [
    "y = data_upsampled['y']\n",
    "y.head()"
   ]
  },
  {
   "cell_type": "code",
   "execution_count": 226,
   "metadata": {
    "collapsed": false
   },
   "outputs": [],
   "source": [
    "x = data_upsampled\n",
    "x.drop(['y'],axis=1,inplace=True)"
   ]
  },
  {
   "cell_type": "code",
   "execution_count": 227,
   "metadata": {
    "collapsed": false
   },
   "outputs": [
    {
     "data": {
      "text/html": [
       "<div>\n",
       "<table border=\"1\" class=\"dataframe\">\n",
       "  <thead>\n",
       "    <tr style=\"text-align: right;\">\n",
       "      <th></th>\n",
       "      <th>x1</th>\n",
       "      <th>x2</th>\n",
       "      <th>x3</th>\n",
       "      <th>x4</th>\n",
       "      <th>x6</th>\n",
       "      <th>x7</th>\n",
       "      <th>x8</th>\n",
       "      <th>x9</th>\n",
       "      <th>x10</th>\n",
       "      <th>x11</th>\n",
       "      <th>...</th>\n",
       "      <th>x5_C</th>\n",
       "      <th>x5_D</th>\n",
       "      <th>x5_E</th>\n",
       "      <th>x13_beta</th>\n",
       "      <th>x13_chi</th>\n",
       "      <th>x64_Mk</th>\n",
       "      <th>x64_Mm</th>\n",
       "      <th>x64_Mp</th>\n",
       "      <th>x65_NST</th>\n",
       "      <th>x65_PT</th>\n",
       "    </tr>\n",
       "  </thead>\n",
       "  <tbody>\n",
       "    <tr>\n",
       "      <th>0</th>\n",
       "      <td>28.0</td>\n",
       "      <td>1.0</td>\n",
       "      <td>0.0</td>\n",
       "      <td>1.0</td>\n",
       "      <td>7.0</td>\n",
       "      <td>5.0</td>\n",
       "      <td>7.0</td>\n",
       "      <td>25.0</td>\n",
       "      <td>196.5</td>\n",
       "      <td>76.2</td>\n",
       "      <td>...</td>\n",
       "      <td>0</td>\n",
       "      <td>0</td>\n",
       "      <td>0</td>\n",
       "      <td>1</td>\n",
       "      <td>0</td>\n",
       "      <td>0</td>\n",
       "      <td>0</td>\n",
       "      <td>1</td>\n",
       "      <td>0</td>\n",
       "      <td>0</td>\n",
       "    </tr>\n",
       "    <tr>\n",
       "      <th>1</th>\n",
       "      <td>35.0</td>\n",
       "      <td>1.0</td>\n",
       "      <td>1.0</td>\n",
       "      <td>1.0</td>\n",
       "      <td>1.0</td>\n",
       "      <td>5.0</td>\n",
       "      <td>16.0</td>\n",
       "      <td>35.0</td>\n",
       "      <td>4.5</td>\n",
       "      <td>48.1</td>\n",
       "      <td>...</td>\n",
       "      <td>0</td>\n",
       "      <td>0</td>\n",
       "      <td>1</td>\n",
       "      <td>0</td>\n",
       "      <td>0</td>\n",
       "      <td>0</td>\n",
       "      <td>0</td>\n",
       "      <td>1</td>\n",
       "      <td>1</td>\n",
       "      <td>0</td>\n",
       "    </tr>\n",
       "    <tr>\n",
       "      <th>2</th>\n",
       "      <td>31.0</td>\n",
       "      <td>1.0</td>\n",
       "      <td>1.0</td>\n",
       "      <td>1.0</td>\n",
       "      <td>4.0</td>\n",
       "      <td>12.0</td>\n",
       "      <td>2.0</td>\n",
       "      <td>27.0</td>\n",
       "      <td>116.7</td>\n",
       "      <td>134.4</td>\n",
       "      <td>...</td>\n",
       "      <td>0</td>\n",
       "      <td>1</td>\n",
       "      <td>0</td>\n",
       "      <td>0</td>\n",
       "      <td>0</td>\n",
       "      <td>0</td>\n",
       "      <td>1</td>\n",
       "      <td>0</td>\n",
       "      <td>0</td>\n",
       "      <td>1</td>\n",
       "    </tr>\n",
       "    <tr>\n",
       "      <th>3</th>\n",
       "      <td>24.0</td>\n",
       "      <td>1.0</td>\n",
       "      <td>1.0</td>\n",
       "      <td>1.0</td>\n",
       "      <td>6.0</td>\n",
       "      <td>10.0</td>\n",
       "      <td>12.0</td>\n",
       "      <td>37.0</td>\n",
       "      <td>79.2</td>\n",
       "      <td>34.9</td>\n",
       "      <td>...</td>\n",
       "      <td>0</td>\n",
       "      <td>0</td>\n",
       "      <td>0</td>\n",
       "      <td>1</td>\n",
       "      <td>0</td>\n",
       "      <td>0</td>\n",
       "      <td>0</td>\n",
       "      <td>1</td>\n",
       "      <td>0</td>\n",
       "      <td>0</td>\n",
       "    </tr>\n",
       "    <tr>\n",
       "      <th>4</th>\n",
       "      <td>25.0</td>\n",
       "      <td>0.0</td>\n",
       "      <td>0.0</td>\n",
       "      <td>1.0</td>\n",
       "      <td>4.0</td>\n",
       "      <td>18.0</td>\n",
       "      <td>9.0</td>\n",
       "      <td>32.0</td>\n",
       "      <td>5.8</td>\n",
       "      <td>88.4</td>\n",
       "      <td>...</td>\n",
       "      <td>0</td>\n",
       "      <td>0</td>\n",
       "      <td>0</td>\n",
       "      <td>1</td>\n",
       "      <td>0</td>\n",
       "      <td>0</td>\n",
       "      <td>0</td>\n",
       "      <td>1</td>\n",
       "      <td>0</td>\n",
       "      <td>0</td>\n",
       "    </tr>\n",
       "  </tbody>\n",
       "</table>\n",
       "<p>5 rows × 73 columns</p>\n",
       "</div>"
      ],
      "text/plain": [
       "     x1   x2   x3   x4   x6    x7    x8    x9    x10    x11   ...    x5_C  \\\n",
       "0  28.0  1.0  0.0  1.0  7.0   5.0   7.0  25.0  196.5   76.2   ...       0   \n",
       "1  35.0  1.0  1.0  1.0  1.0   5.0  16.0  35.0    4.5   48.1   ...       0   \n",
       "2  31.0  1.0  1.0  1.0  4.0  12.0   2.0  27.0  116.7  134.4   ...       0   \n",
       "3  24.0  1.0  1.0  1.0  6.0  10.0  12.0  37.0   79.2   34.9   ...       0   \n",
       "4  25.0  0.0  0.0  1.0  4.0  18.0   9.0  32.0    5.8   88.4   ...       0   \n",
       "\n",
       "   x5_D  x5_E  x13_beta  x13_chi  x64_Mk  x64_Mm  x64_Mp  x65_NST  x65_PT  \n",
       "0     0     0         1        0       0       0       1        0       0  \n",
       "1     0     1         0        0       0       0       1        1       0  \n",
       "2     1     0         0        0       0       1       0        0       1  \n",
       "3     0     0         1        0       0       0       1        0       0  \n",
       "4     0     0         1        0       0       0       1        0       0  \n",
       "\n",
       "[5 rows x 73 columns]"
      ]
     },
     "execution_count": 227,
     "metadata": {},
     "output_type": "execute_result"
    }
   ],
   "source": [
    "y=y.reset_index(drop='True')\n",
    "x=x.reset_index(drop='True')\n",
    "x.head()"
   ]
  },
  {
   "cell_type": "code",
   "execution_count": 228,
   "metadata": {
    "collapsed": false
   },
   "outputs": [],
   "source": [
    "from sklearn.linear_model import LogisticRegression #logistic regression\n",
    "from sklearn import svm #support vector Machine\n",
    "from sklearn.ensemble import RandomForestClassifier #Random Forest\n",
    "from sklearn.neighbors import KNeighborsClassifier #KNN\n",
    "from sklearn.naive_bayes import GaussianNB #Naive bayes\n",
    "from sklearn.tree import DecisionTreeClassifier #Decision Tree\n",
    "from sklearn.metrics import confusion_matrix\n",
    "from sklearn.model_selection import cross_val_score\n",
    "from sklearn.model_selection import KFold\n",
    "actuals=[]\n",
    "acc=[]\n",
    "proba=[]\n",
    "std_dev=[]\n",
    "predicted=[]\n",
    "class1_acc=[]\n",
    "class2_acc=[]"
   ]
  },
  {
   "cell_type": "code",
   "execution_count": 229,
   "metadata": {
    "collapsed": false
   },
   "outputs": [],
   "source": [
    "classifiers=['Naive Bayes','Radial Svm','Logistic Regression','Decision Tree','KNN','Random Forest']"
   ]
  },
  {
   "cell_type": "markdown",
   "metadata": {},
   "source": [
    "### Gaussian Naive Bayes"
   ]
  },
  {
   "cell_type": "code",
   "execution_count": 230,
   "metadata": {
    "collapsed": false
   },
   "outputs": [],
   "source": [
    "model = GaussianNB()\n",
    "model.fit(x,y)\n",
    "y_pred = model.predict(X_test)\n",
    "conf = confusion_matrix(y_test,y_pred)\n",
    "g=conf.diagonal()/conf.sum(axis=1)\n",
    "acc.append(metrics.accuracy_score(y_test,y_pred))\n",
    "class1_acc.append(g[0])\n",
    "class2_acc.append(g[1])\n",
    "std_dev.append(y_pred.std())"
   ]
  },
  {
   "cell_type": "markdown",
   "metadata": {},
   "source": [
    "### Radial SVM"
   ]
  },
  {
   "cell_type": "code",
   "execution_count": 231,
   "metadata": {
    "collapsed": false
   },
   "outputs": [],
   "source": [
    "model = svm.SVC(kernel='rbf')\n",
    "model.fit(x,y)\n",
    "y_pred = model.predict(X_test)\n",
    "conf = confusion_matrix(y_test,y_pred)\n",
    "g=conf.diagonal()/conf.sum(axis=1)\n",
    "acc.append(metrics.accuracy_score(y_test,y_pred))\n",
    "class1_acc.append(g[0])\n",
    "class2_acc.append(g[1])\n",
    "std_dev.append(y_pred.std())"
   ]
  },
  {
   "cell_type": "code",
   "execution_count": 232,
   "metadata": {
    "collapsed": false
   },
   "outputs": [
    {
     "name": "stdout",
     "output_type": "stream",
     "text": [
      "[0.7466666666666667, 0.7573333333333333] [0.70598591549295775, 1.0] [0.87362637362637363, 0.0] [0.99142635743771834, 0.0]\n"
     ]
    }
   ],
   "source": [
    "print(acc,class1_acc,class2_acc,std_dev)"
   ]
  },
  {
   "cell_type": "markdown",
   "metadata": {},
   "source": [
    "### Logistic Regression"
   ]
  },
  {
   "cell_type": "code",
   "execution_count": 233,
   "metadata": {
    "collapsed": false
   },
   "outputs": [],
   "source": [
    "model = LogisticRegression()\n",
    "model.fit(x,y)\n",
    "y_pred = model.predict(X_test)\n",
    "conf = confusion_matrix(y_test,y_pred)\n",
    "g=conf.diagonal()/conf.sum(axis=1)\n",
    "acc.append(metrics.accuracy_score(y_test,y_pred))\n",
    "class1_acc.append(g[0])\n",
    "class2_acc.append(g[1])\n",
    "std_dev.append(y_pred.std())"
   ]
  },
  {
   "cell_type": "code",
   "execution_count": 234,
   "metadata": {
    "collapsed": false
   },
   "outputs": [
    {
     "name": "stdout",
     "output_type": "stream",
     "text": [
      "[0.7466666666666667, 0.7573333333333333, 0.79066666666666663] [0.70598591549295775, 1.0, 0.77992957746478875] [0.87362637362637363, 0.0, 0.82417582417582413] [0.99142635743771834, 0.0, 0.96378881965339747]\n"
     ]
    }
   ],
   "source": [
    "print(acc,class1_acc,class2_acc,std_dev)"
   ]
  },
  {
   "cell_type": "markdown",
   "metadata": {},
   "source": [
    "### Decision Trees"
   ]
  },
  {
   "cell_type": "code",
   "execution_count": 235,
   "metadata": {
    "collapsed": true
   },
   "outputs": [],
   "source": [
    "model = DecisionTreeClassifier()\n",
    "model.fit(x,y)\n",
    "y_pred = model.predict(X_test)\n",
    "conf = confusion_matrix(y_test,y_pred)\n",
    "g=conf.diagonal()/conf.sum(axis=1)\n",
    "acc.append(metrics.accuracy_score(y_test,y_pred))\n",
    "class1_acc.append(g[0])\n",
    "class2_acc.append(g[1])\n",
    "std_dev.append(y_pred.std())"
   ]
  },
  {
   "cell_type": "markdown",
   "metadata": {},
   "source": [
    "### KNN"
   ]
  },
  {
   "cell_type": "code",
   "execution_count": 236,
   "metadata": {
    "collapsed": true
   },
   "outputs": [],
   "source": [
    "model = KNeighborsClassifier(n_neighbors=9)\n",
    "model.fit(x,y)\n",
    "y_pred = model.predict(X_test)\n",
    "conf = confusion_matrix(y_test,y_pred)\n",
    "g=conf.diagonal()/conf.sum(axis=1)\n",
    "acc.append(metrics.accuracy_score(y_test,y_pred))\n",
    "class1_acc.append(g[0])\n",
    "class2_acc.append(g[1])\n",
    "std_dev.append(y_pred.std())"
   ]
  },
  {
   "cell_type": "markdown",
   "metadata": {},
   "source": [
    "### Random Forest"
   ]
  },
  {
   "cell_type": "code",
   "execution_count": 237,
   "metadata": {
    "collapsed": true
   },
   "outputs": [],
   "source": [
    "model = RandomForestClassifier(n_estimators=100)\n",
    "model.fit(x,y)\n",
    "y_pred = model.predict(X_test)\n",
    "conf = confusion_matrix(y_test,y_pred)\n",
    "g=conf.diagonal()/conf.sum(axis=1)\n",
    "acc.append(metrics.accuracy_score(y_test,y_pred))\n",
    "class1_acc.append(g[0])\n",
    "class2_acc.append(g[1])\n",
    "std_dev.append(y_pred.std())"
   ]
  },
  {
   "cell_type": "code",
   "execution_count": 238,
   "metadata": {
    "collapsed": false
   },
   "outputs": [
    {
     "data": {
      "text/plain": [
       "6"
      ]
     },
     "execution_count": 238,
     "metadata": {},
     "output_type": "execute_result"
    }
   ],
   "source": [
    "len(std_dev)"
   ]
  },
  {
   "cell_type": "code",
   "execution_count": 239,
   "metadata": {
    "collapsed": false
   },
   "outputs": [],
   "source": [
    "comparison = pd.DataFrame({'Overall Accuracy':acc,'Class1_Accuracy':class1_acc,'Class2_Accuracy':class2_acc,\n",
    "                           'Model Variance':std_dev},index = classifiers)"
   ]
  },
  {
   "cell_type": "code",
   "execution_count": 240,
   "metadata": {
    "collapsed": false
   },
   "outputs": [
    {
     "name": "stdout",
     "output_type": "stream",
     "text": [
      "                     Class1_Accuracy  Class2_Accuracy  Model Variance  \\\n",
      "Naive Bayes                 0.705986         0.873626        0.991426   \n",
      "Radial Svm                  1.000000         0.000000        0.000000   \n",
      "Logistic Regression         0.779930         0.824176        0.963789   \n",
      "Decision Tree               0.834507         0.571429        0.881599   \n",
      "KNN                         0.716549         0.686813        0.971428   \n",
      "Random Forest               0.915493         0.565934        0.801993   \n",
      "\n",
      "                     Overall Accuracy  \n",
      "Naive Bayes                  0.746667  \n",
      "Radial Svm                   0.757333  \n",
      "Logistic Regression          0.790667  \n",
      "Decision Tree                0.770667  \n",
      "KNN                          0.709333  \n",
      "Random Forest                0.830667  \n"
     ]
    }
   ],
   "source": [
    "print(comparison)"
   ]
  },
  {
   "cell_type": "markdown",
   "metadata": {},
   "source": [
    "### Parameter tuning for SVM"
   ]
  },
  {
   "cell_type": "code",
   "execution_count": 42,
   "metadata": {
    "collapsed": false
   },
   "outputs": [],
   "source": [
    "from sklearn.model_selection import GridSearchCV\n",
    "Cs = [0.001,0.01,0.1,1,10, 100]\n",
    "gammas = [0.001,0.01,0.1,1]\n",
    "param_grid = {'C':Cs,'gamma':gammas}\n",
    "grid = GridSearchCV(svm.SVC(kernel='rbf'),param_grid,refit=True)"
   ]
  },
  {
   "cell_type": "code",
   "execution_count": 38,
   "metadata": {
    "collapsed": false
   },
   "outputs": [
    {
     "data": {
      "text/plain": [
       "GridSearchCV(cv=None, error_score='raise',\n",
       "       estimator=SVC(C=1.0, cache_size=200, class_weight=None, coef0=0.0,\n",
       "  decision_function_shape=None, degree=3, gamma='auto', kernel='rbf',\n",
       "  max_iter=-1, probability=False, random_state=None, shrinking=True,\n",
       "  tol=0.001, verbose=False),\n",
       "       fit_params={}, iid=True, n_jobs=1,\n",
       "       param_grid={'C': [0.001, 0.01, 0.1, 1, 10, 100], 'gamma': [0.001, 0.01, 0.1, 1]},\n",
       "       pre_dispatch='2*n_jobs', refit=True, return_train_score=True,\n",
       "       scoring=None, verbose=0)"
      ]
     },
     "execution_count": 38,
     "metadata": {},
     "output_type": "execute_result"
    }
   ],
   "source": [
    "grid.fit(x,y)"
   ]
  },
  {
   "cell_type": "code",
   "execution_count": 39,
   "metadata": {
    "collapsed": false
   },
   "outputs": [
    {
     "data": {
      "text/plain": [
       "{'C': 1, 'gamma': 0.01}"
      ]
     },
     "execution_count": 39,
     "metadata": {},
     "output_type": "execute_result"
    }
   ],
   "source": [
    "grid.best_params_"
   ]
  },
  {
   "cell_type": "code",
   "execution_count": 40,
   "metadata": {
    "collapsed": true
   },
   "outputs": [],
   "source": [
    "pred = grid.predict(X_test)"
   ]
  },
  {
   "cell_type": "code",
   "execution_count": 41,
   "metadata": {
    "collapsed": false
   },
   "outputs": [
    {
     "name": "stdout",
     "output_type": "stream",
     "text": [
      "0.757333333333\n"
     ]
    }
   ],
   "source": [
    "print(metrics.accuracy_score(y_test,pred))"
   ]
  },
  {
   "cell_type": "code",
   "execution_count": 42,
   "metadata": {
    "collapsed": false
   },
   "outputs": [
    {
     "name": "stdout",
     "output_type": "stream",
     "text": [
      "[[568   0]\n",
      " [182   0]]\n"
     ]
    }
   ],
   "source": [
    "conf=confusion_matrix(y_test,pred)\n",
    "con = \n",
    "print(conf)"
   ]
  },
  {
   "cell_type": "code",
   "execution_count": 51,
   "metadata": {
    "collapsed": false
   },
   "outputs": [
    {
     "name": "stdout",
     "output_type": "stream",
     "text": [
      "[571 508]\n"
     ]
    }
   ],
   "source": [
    "g = conf.diagonal()\n",
    "print(g)"
   ]
  },
  {
   "cell_type": "code",
   "execution_count": 52,
   "metadata": {
    "collapsed": false
   },
   "outputs": [
    {
     "name": "stdout",
     "output_type": "stream",
     "text": [
      "[ 1.          0.90070922]\n"
     ]
    }
   ],
   "source": [
    "print(g/conf.sum(axis=1))"
   ]
  },
  {
   "cell_type": "markdown",
   "metadata": {
    "collapsed": true
   },
   "source": [
    "### Parameter tuning for Random Forest"
   ]
  },
  {
   "cell_type": "code",
   "execution_count": 190,
   "metadata": {
    "collapsed": false
   },
   "outputs": [],
   "source": [
    "param_grid = {\n",
    "    'min_samples_split' : [2,3,8],\n",
    "    'min_samples_leaf' : [3,4,5],\n",
    "    'max_features' : ['auto','sqrt'],\n",
    "    'n_estimators' : [100, 200, 300, 1000],\n",
    "    'max_depth' : [2,3,5]}"
   ]
  },
  {
   "cell_type": "code",
   "execution_count": 191,
   "metadata": {
    "collapsed": true
   },
   "outputs": [],
   "source": [
    "grid_2 = GridSearchCV(RandomForestClassifier(n_estimators=100),param_grid,refit=True)"
   ]
  },
  {
   "cell_type": "code",
   "execution_count": 192,
   "metadata": {
    "collapsed": false
   },
   "outputs": [
    {
     "data": {
      "text/plain": [
       "GridSearchCV(cv=None, error_score='raise',\n",
       "       estimator=RandomForestClassifier(bootstrap=True, class_weight=None, criterion='gini',\n",
       "            max_depth=None, max_features='auto', max_leaf_nodes=None,\n",
       "            min_impurity_split=1e-07, min_samples_leaf=1,\n",
       "            min_samples_split=2, min_weight_fraction_leaf=0.0,\n",
       "            n_estimators=100, n_jobs=1, oob_score=False, random_state=None,\n",
       "            verbose=0, warm_start=False),\n",
       "       fit_params={}, iid=True, n_jobs=1,\n",
       "       param_grid={'min_samples_split': [2, 3, 8], 'min_samples_leaf': [3, 4, 5], 'max_features': ['auto', 'sqrt'], 'n_estimators': [100, 200, 300, 1000], 'max_depth': [2, 3, 5]},\n",
       "       pre_dispatch='2*n_jobs', refit=True, return_train_score=True,\n",
       "       scoring=None, verbose=0)"
      ]
     },
     "execution_count": 192,
     "metadata": {},
     "output_type": "execute_result"
    }
   ],
   "source": [
    "grid_2.fit(x,y)"
   ]
  },
  {
   "cell_type": "code",
   "execution_count": 200,
   "metadata": {
    "collapsed": false
   },
   "outputs": [
    {
     "name": "stdout",
     "output_type": "stream",
     "text": [
      "Overall Prediction Accuracy:  0.752\n",
      "Confusion Matrix\n",
      "            predicted -1  predicted 1\n",
      "actual -1:           450          118\n",
      "actual 1              32          150\n",
      "Class Prediction Accuracies: [ 0.79225352  0.82417582]\n"
     ]
    }
   ],
   "source": [
    "pred = grid_2.predict(X_test)\n",
    "print('Overall Prediction Accuracy: ',metrics.accuracy_score(y_test,pred))\n",
    "conf=confusion_matrix(y_test,pred)\n",
    "g = conf.diagonal()\n",
    "print('Confusion Matrix')\n",
    "con = pd.DataFrame(data=conf, index = ['actual -1:','actual 1'], columns = ['predicted -1','predicted 1'])\n",
    "print(con)\n",
    "print('Class Prediction Accuracies:', g/conf.sum(axis=1))"
   ]
  },
  {
   "cell_type": "markdown",
   "metadata": {},
   "source": [
    "### Parameter tuning for Logistic Regression"
   ]
  },
  {
   "cell_type": "code",
   "execution_count": 206,
   "metadata": {
    "collapsed": true
   },
   "outputs": [],
   "source": [
    "param_grid = {'C': [0.001, 0.01, 0.1, 1, 10, 100, 1000], 'penalty': ['l1','l2'],'tol':[0.01,0.0001,0.00001,0.000001]}"
   ]
  },
  {
   "cell_type": "code",
   "execution_count": 207,
   "metadata": {
    "collapsed": false
   },
   "outputs": [],
   "source": [
    "grid_2 = GridSearchCV(LogisticRegression(class_weight='balanced'),param_grid,refit=True)"
   ]
  },
  {
   "cell_type": "code",
   "execution_count": 208,
   "metadata": {
    "collapsed": false
   },
   "outputs": [
    {
     "data": {
      "text/plain": [
       "GridSearchCV(cv=None, error_score='raise',\n",
       "       estimator=LogisticRegression(C=1.0, class_weight='balanced', dual=False,\n",
       "          fit_intercept=True, intercept_scaling=1, max_iter=100,\n",
       "          multi_class='ovr', n_jobs=1, penalty='l2', random_state=None,\n",
       "          solver='liblinear', tol=0.0001, verbose=0, warm_start=False),\n",
       "       fit_params={}, iid=True, n_jobs=1,\n",
       "       param_grid={'C': [0.001, 0.01, 0.1, 1, 10, 100, 1000], 'penalty': ['l1', 'l2'], 'tol': [0.01, 0.0001, 1e-05, 1e-06]},\n",
       "       pre_dispatch='2*n_jobs', refit=True, return_train_score=True,\n",
       "       scoring=None, verbose=0)"
      ]
     },
     "execution_count": 208,
     "metadata": {},
     "output_type": "execute_result"
    }
   ],
   "source": [
    "grid_2.fit(x,y)"
   ]
  },
  {
   "cell_type": "code",
   "execution_count": 205,
   "metadata": {
    "collapsed": false
   },
   "outputs": [
    {
     "name": "stdout",
     "output_type": "stream",
     "text": [
      "Overall Prediction Accuracy:  0.798666666667\n",
      "Confusion Matrix\n",
      "            predicted -1  predicted 1\n",
      "actual -1:           449          119\n",
      "actual 1              32          150\n",
      "Class Prediction Accuracies: [ 0.79225352  0.82417582]\n"
     ]
    }
   ],
   "source": [
    "pred = grid_2.predict(X_test)\n",
    "print('Overall Prediction Accuracy: ',metrics.accuracy_score(y_test,pred))\n",
    "g = conf.diagonal()\n",
    "print('Confusion Matrix')\n",
    "conf=confusion_matrix(y_test,pred)\n",
    "con = pd.DataFrame(data=conf, index = ['actual -1:','actual 1'], columns = ['predicted -1','predicted 1'])\n",
    "print(con)\n",
    "print('Class Prediction Accuracies:', g/conf.sum(axis=1))"
   ]
  },
  {
   "cell_type": "code",
   "execution_count": 48,
   "metadata": {
    "collapsed": true
   },
   "outputs": [],
   "source": [
    "y_pred=grid_2.predict(X_test)"
   ]
  },
  {
   "cell_type": "code",
   "execution_count": 49,
   "metadata": {
    "collapsed": false
   },
   "outputs": [
    {
     "name": "stdout",
     "output_type": "stream",
     "text": [
      "0.798666666667\n"
     ]
    }
   ],
   "source": [
    "print(metrics.accuracy_score(y_test,y_pred))"
   ]
  },
  {
   "cell_type": "code",
   "execution_count": 50,
   "metadata": {
    "collapsed": true
   },
   "outputs": [],
   "source": [
    "conf = confusion_matrix(y_test,y_pred)\n",
    "g=conf.diagonal()/conf.sum(axis=1)\n",
    "Class1_error = 1-g[0]\n",
    "Class2_error = 1-g[1]"
   ]
  },
  {
   "cell_type": "code",
   "execution_count": 53,
   "metadata": {
    "collapsed": false
   },
   "outputs": [
    {
     "name": "stdout",
     "output_type": "stream",
     "text": [
      "Confusion Matrix:\n",
      "[[449 119]\n",
      " [ 32 150]]\n"
     ]
    }
   ],
   "source": [
    "print('Confusion Matrix:')\n",
    "print(conf)"
   ]
  },
  {
   "cell_type": "code",
   "execution_count": 52,
   "metadata": {
    "collapsed": false
   },
   "outputs": [
    {
     "name": "stdout",
     "output_type": "stream",
     "text": [
      "Class_1 Error : 0.209507, Class_2 Error : 0.175824\n"
     ]
    }
   ],
   "source": [
    "print('Class_1 Error : %f, Class_2 Error : %f' %(Class1_error,Class2_error))"
   ]
  },
  {
   "cell_type": "code",
   "execution_count": 54,
   "metadata": {
    "collapsed": false
   },
   "outputs": [
    {
     "data": {
      "text/plain": [
       "{'C': 10, 'penalty': 'l1', 'tol': 0.0001}"
      ]
     },
     "execution_count": 54,
     "metadata": {},
     "output_type": "execute_result"
    }
   ],
   "source": [
    "grid_2.best_params_"
   ]
  },
  {
   "cell_type": "markdown",
   "metadata": {},
   "source": [
    "### Manually fine tuning the model"
   ]
  },
  {
   "cell_type": "code",
   "execution_count": 55,
   "metadata": {
    "collapsed": false
   },
   "outputs": [],
   "source": [
    "C=[10,20,30,40,50,60]"
   ]
  },
  {
   "cell_type": "code",
   "execution_count": 56,
   "metadata": {
    "collapsed": false
   },
   "outputs": [
    {
     "name": "stdout",
     "output_type": "stream",
     "text": [
      "Accuracy for C=10.000000 : 0.798667\n",
      "Accuracy for C=20.000000 : 0.800000\n",
      "Accuracy for C=30.000000 : 0.800000\n",
      "Accuracy for C=40.000000 : 0.798667\n",
      "Accuracy for C=50.000000 : 0.798667\n",
      "Accuracy for C=60.000000 : 0.798667\n"
     ]
    }
   ],
   "source": [
    "for i in C:\n",
    "    mod=LogisticRegression(class_weight='balanced',penalty='l1',tol=0.0001,C=i)\n",
    "    mod.fit(x,y)\n",
    "    y_pred = mod.predict(X_test)\n",
    "    acc = metrics.accuracy_score(y_test,y_pred)\n",
    "    print('Accuracy for C=%f : %f' %(i,acc))"
   ]
  },
  {
   "cell_type": "code",
   "execution_count": 67,
   "metadata": {
    "collapsed": true
   },
   "outputs": [],
   "source": [
    "model = LogisticRegression(class_weight='balanced',penalty='l1',tol=0.0001,C=30)"
   ]
  },
  {
   "cell_type": "code",
   "execution_count": 68,
   "metadata": {
    "collapsed": false
   },
   "outputs": [],
   "source": [
    "from sklearn.metrics import roc_auc_score\n",
    "model.fit(x,y)\n",
    "y_pred=model.predict(X_test)\n",
    "acc=metrics.accuracy_score(y_test,y_pred)\n",
    "conf = confusion_matrix(y_test,y_pred)\n",
    "g=conf.diagonal()/conf.sum(axis=1)\n",
    "Class1_error = 1-g[0]\n",
    "Class2_error = 1-g[1]\n",
    "auc_score = roc_auc_score(y_test,y_pred) "
   ]
  },
  {
   "cell_type": "code",
   "execution_count": 69,
   "metadata": {
    "collapsed": false
   },
   "outputs": [
    {
     "name": "stdout",
     "output_type": "stream",
     "text": [
      "Model Accuracy: 0.800000\n",
      "AUC: 0.808215\n",
      "Class_1 Error: 0.207746\n",
      "Class_2 Error: 0.175824\n"
     ]
    }
   ],
   "source": [
    "print('Model Accuracy: %f'%(acc))\n",
    "print('AUC: %f'%(auc_score))\n",
    "print('Class_1 Error: %f'%(Class1_error))\n",
    "print('Class_2 Error: %f'%(Class2_error))"
   ]
  },
  {
   "cell_type": "markdown",
   "metadata": {},
   "source": [
    "### Using the entire dataset to build the final model"
   ]
  },
  {
   "cell_type": "code",
   "execution_count": 241,
   "metadata": {
    "collapsed": false
   },
   "outputs": [],
   "source": [
    "data.head()\n",
    "data = data.dropna(how='any',axis=0)"
   ]
  },
  {
   "cell_type": "code",
   "execution_count": 242,
   "metadata": {
    "collapsed": false
   },
   "outputs": [],
   "source": [
    "data.head()\n",
    "cat_cols = [col for col in data.columns \n",
    "           if data[col].dtype=='object']\n",
    "ord_cols = [col for col in data.columns\n",
    "           if data[col].dtype in('float64','int64')]\n",
    "dum_data = pd.get_dummies(data[cat_cols],drop_first='True')\n",
    "dat = pd.concat([data[ord_cols],dum_data],axis=1)\n",
    "majority_class = dat[dat['y']==-1]\n",
    "minority_class = dat[dat['y']==1]\n",
    "upsampled_minority = resample(minority_class,replace=True,n_samples=1891,random_state=std_seed)\n",
    "data_upsampled = pd.concat([majority_class,upsampled_minority],axis=0)"
   ]
  },
  {
   "cell_type": "code",
   "execution_count": 243,
   "metadata": {
    "collapsed": false
   },
   "outputs": [
    {
     "data": {
      "text/plain": [
       " 1    1891\n",
       "-1    1891\n",
       "Name: y, dtype: int64"
      ]
     },
     "execution_count": 243,
     "metadata": {},
     "output_type": "execute_result"
    }
   ],
   "source": [
    "data_upsampled['y'].value_counts()"
   ]
  },
  {
   "cell_type": "code",
   "execution_count": 244,
   "metadata": {
    "collapsed": false
   },
   "outputs": [
    {
     "data": {
      "text/plain": [
       "0   -1\n",
       "1   -1\n",
       "3   -1\n",
       "4   -1\n",
       "7   -1\n",
       "Name: y, dtype: int64"
      ]
     },
     "execution_count": 244,
     "metadata": {},
     "output_type": "execute_result"
    }
   ],
   "source": [
    "y = data_upsampled['y']\n",
    "y.head()"
   ]
  },
  {
   "cell_type": "code",
   "execution_count": 245,
   "metadata": {
    "collapsed": false
   },
   "outputs": [],
   "source": [
    "x = data_upsampled\n",
    "x.drop(['y'],axis=1,inplace=True)"
   ]
  },
  {
   "cell_type": "code",
   "execution_count": 246,
   "metadata": {
    "collapsed": false
   },
   "outputs": [],
   "source": [
    "y=y.reset_index(drop='True')\n",
    "x=x.reset_index(drop='True')\n",
    "x.drop(['Row'],axis=1,inplace=True)"
   ]
  },
  {
   "cell_type": "code",
   "execution_count": 247,
   "metadata": {
    "collapsed": false
   },
   "outputs": [
    {
     "data": {
      "text/plain": [
       "(3782, 74)"
      ]
     },
     "execution_count": 247,
     "metadata": {},
     "output_type": "execute_result"
    }
   ],
   "source": [
    "x.shape"
   ]
  },
  {
   "cell_type": "code",
   "execution_count": 248,
   "metadata": {
    "collapsed": false
   },
   "outputs": [
    {
     "data": {
      "text/plain": [
       "(3782,)"
      ]
     },
     "execution_count": 248,
     "metadata": {},
     "output_type": "execute_result"
    }
   ],
   "source": [
    "y.shape"
   ]
  },
  {
   "cell_type": "code",
   "execution_count": 249,
   "metadata": {
    "collapsed": false
   },
   "outputs": [],
   "source": [
    "param_grid = {'C': [20, 30, 100, 1000], 'penalty': ['l1','l2'],'tol':[0.01,0.0001,0.00001,0.000001]}"
   ]
  },
  {
   "cell_type": "code",
   "execution_count": 250,
   "metadata": {
    "collapsed": true
   },
   "outputs": [],
   "source": [
    "grid_2 = GridSearchCV(LogisticRegression(class_weight='balanced'),param_grid,refit=True)"
   ]
  },
  {
   "cell_type": "code",
   "execution_count": null,
   "metadata": {
    "collapsed": true
   },
   "outputs": [],
   "source": [
    "final_model = grid_2.fit(x,y)"
   ]
  },
  {
   "cell_type": "code",
   "execution_count": null,
   "metadata": {
    "collapsed": false
   },
   "outputs": [],
   "source": [
    "grid_2.best_params_"
   ]
  },
  {
   "cell_type": "markdown",
   "metadata": {},
   "source": [
    "### Fitting the testing data"
   ]
  },
  {
   "cell_type": "code",
   "execution_count": 139,
   "metadata": {
    "collapsed": true
   },
   "outputs": [],
   "source": [
    "test_data = pd.read_csv('test.csv')"
   ]
  },
  {
   "cell_type": "code",
   "execution_count": 140,
   "metadata": {
    "collapsed": false
   },
   "outputs": [
    {
     "data": {
      "text/html": [
       "<div>\n",
       "<table border=\"1\" class=\"dataframe\">\n",
       "  <thead>\n",
       "    <tr style=\"text-align: right;\">\n",
       "      <th></th>\n",
       "      <th>Row</th>\n",
       "      <th>x1</th>\n",
       "      <th>x2</th>\n",
       "      <th>x3</th>\n",
       "      <th>x4</th>\n",
       "      <th>x5</th>\n",
       "      <th>x6</th>\n",
       "      <th>x7</th>\n",
       "      <th>x8</th>\n",
       "      <th>x9</th>\n",
       "      <th>...</th>\n",
       "      <th>x58</th>\n",
       "      <th>x59</th>\n",
       "      <th>x60</th>\n",
       "      <th>x61</th>\n",
       "      <th>x62</th>\n",
       "      <th>x63</th>\n",
       "      <th>x64</th>\n",
       "      <th>x65</th>\n",
       "      <th>x66</th>\n",
       "      <th>y</th>\n",
       "    </tr>\n",
       "  </thead>\n",
       "  <tbody>\n",
       "    <tr>\n",
       "      <th>0</th>\n",
       "      <td>1</td>\n",
       "      <td>30</td>\n",
       "      <td>1</td>\n",
       "      <td>1</td>\n",
       "      <td>0</td>\n",
       "      <td>A</td>\n",
       "      <td>16</td>\n",
       "      <td>5</td>\n",
       "      <td>2</td>\n",
       "      <td>28</td>\n",
       "      <td>...</td>\n",
       "      <td>1</td>\n",
       "      <td>0</td>\n",
       "      <td>0</td>\n",
       "      <td>0</td>\n",
       "      <td>0</td>\n",
       "      <td>1</td>\n",
       "      <td>Mp</td>\n",
       "      <td>NPT</td>\n",
       "      <td>1</td>\n",
       "      <td>NaN</td>\n",
       "    </tr>\n",
       "    <tr>\n",
       "      <th>1</th>\n",
       "      <td>2</td>\n",
       "      <td>41</td>\n",
       "      <td>0</td>\n",
       "      <td>1</td>\n",
       "      <td>1</td>\n",
       "      <td>C</td>\n",
       "      <td>8</td>\n",
       "      <td>3</td>\n",
       "      <td>9</td>\n",
       "      <td>34</td>\n",
       "      <td>...</td>\n",
       "      <td>1</td>\n",
       "      <td>0</td>\n",
       "      <td>0</td>\n",
       "      <td>0</td>\n",
       "      <td>0</td>\n",
       "      <td>0</td>\n",
       "      <td>Ma</td>\n",
       "      <td>PT</td>\n",
       "      <td>1</td>\n",
       "      <td>NaN</td>\n",
       "    </tr>\n",
       "    <tr>\n",
       "      <th>2</th>\n",
       "      <td>3</td>\n",
       "      <td>24</td>\n",
       "      <td>0</td>\n",
       "      <td>1</td>\n",
       "      <td>0</td>\n",
       "      <td>E</td>\n",
       "      <td>5</td>\n",
       "      <td>1</td>\n",
       "      <td>6</td>\n",
       "      <td>27</td>\n",
       "      <td>...</td>\n",
       "      <td>0</td>\n",
       "      <td>0</td>\n",
       "      <td>0</td>\n",
       "      <td>0</td>\n",
       "      <td>0</td>\n",
       "      <td>1</td>\n",
       "      <td>Mp</td>\n",
       "      <td>ST</td>\n",
       "      <td>1</td>\n",
       "      <td>NaN</td>\n",
       "    </tr>\n",
       "    <tr>\n",
       "      <th>3</th>\n",
       "      <td>4</td>\n",
       "      <td>36</td>\n",
       "      <td>1</td>\n",
       "      <td>1</td>\n",
       "      <td>0</td>\n",
       "      <td>A</td>\n",
       "      <td>17</td>\n",
       "      <td>11</td>\n",
       "      <td>8</td>\n",
       "      <td>35</td>\n",
       "      <td>...</td>\n",
       "      <td>1</td>\n",
       "      <td>0</td>\n",
       "      <td>0</td>\n",
       "      <td>0</td>\n",
       "      <td>0</td>\n",
       "      <td>0</td>\n",
       "      <td>Mp</td>\n",
       "      <td>NPT</td>\n",
       "      <td>1</td>\n",
       "      <td>NaN</td>\n",
       "    </tr>\n",
       "    <tr>\n",
       "      <th>4</th>\n",
       "      <td>5</td>\n",
       "      <td>19</td>\n",
       "      <td>0</td>\n",
       "      <td>1</td>\n",
       "      <td>1</td>\n",
       "      <td>C</td>\n",
       "      <td>1</td>\n",
       "      <td>0</td>\n",
       "      <td>14</td>\n",
       "      <td>27</td>\n",
       "      <td>...</td>\n",
       "      <td>1</td>\n",
       "      <td>0</td>\n",
       "      <td>0</td>\n",
       "      <td>0</td>\n",
       "      <td>0</td>\n",
       "      <td>1</td>\n",
       "      <td>Ma</td>\n",
       "      <td>PT</td>\n",
       "      <td>1</td>\n",
       "      <td>NaN</td>\n",
       "    </tr>\n",
       "  </tbody>\n",
       "</table>\n",
       "<p>5 rows × 68 columns</p>\n",
       "</div>"
      ],
      "text/plain": [
       "   Row  x1  x2  x3  x4 x5  x6  x7  x8  x9 ...  x58  x59  x60 x61  x62  x63  \\\n",
       "0    1  30   1   1   0  A  16   5   2  28 ...    1    0    0   0    0    1   \n",
       "1    2  41   0   1   1  C   8   3   9  34 ...    1    0    0   0    0    0   \n",
       "2    3  24   0   1   0  E   5   1   6  27 ...    0    0    0   0    0    1   \n",
       "3    4  36   1   1   0  A  17  11   8  35 ...    1    0    0   0    0    0   \n",
       "4    5  19   0   1   1  C   1   0  14  27 ...    1    0    0   0    0    1   \n",
       "\n",
       "   x64  x65  x66   y  \n",
       "0   Mp  NPT    1 NaN  \n",
       "1   Ma   PT    1 NaN  \n",
       "2   Mp   ST    1 NaN  \n",
       "3   Mp  NPT    1 NaN  \n",
       "4   Ma   PT    1 NaN  \n",
       "\n",
       "[5 rows x 68 columns]"
      ]
     },
     "execution_count": 140,
     "metadata": {},
     "output_type": "execute_result"
    }
   ],
   "source": [
    "test_data.head()"
   ]
  },
  {
   "cell_type": "code",
   "execution_count": 141,
   "metadata": {
    "collapsed": false
   },
   "outputs": [],
   "source": [
    "test_data.drop(['Row','y'],axis=1,inplace=True)"
   ]
  },
  {
   "cell_type": "code",
   "execution_count": 142,
   "metadata": {
    "collapsed": false
   },
   "outputs": [
    {
     "data": {
      "text/plain": [
       "(1647, 66)"
      ]
     },
     "execution_count": 142,
     "metadata": {},
     "output_type": "execute_result"
    }
   ],
   "source": [
    "test_data.head()\n",
    "test_data.shape"
   ]
  },
  {
   "cell_type": "code",
   "execution_count": 83,
   "metadata": {
    "collapsed": false
   },
   "outputs": [
    {
     "data": {
      "text/plain": [
       "x1     0\n",
       "x2     0\n",
       "x3     0\n",
       "x4     0\n",
       "x5     0\n",
       "x6     0\n",
       "x7     0\n",
       "x8     0\n",
       "x9     0\n",
       "x10    0\n",
       "x11    0\n",
       "x12    0\n",
       "x13    0\n",
       "x14    0\n",
       "x15    0\n",
       "x16    0\n",
       "x17    0\n",
       "x18    0\n",
       "x19    0\n",
       "x20    0\n",
       "x21    0\n",
       "x22    0\n",
       "x23    0\n",
       "x24    0\n",
       "x25    0\n",
       "x26    0\n",
       "x27    0\n",
       "x28    0\n",
       "x29    0\n",
       "x30    0\n",
       "      ..\n",
       "x37    0\n",
       "x38    0\n",
       "x39    0\n",
       "x40    0\n",
       "x41    0\n",
       "x42    0\n",
       "x43    0\n",
       "x44    0\n",
       "x45    0\n",
       "x46    0\n",
       "x47    0\n",
       "x48    0\n",
       "x49    0\n",
       "x50    0\n",
       "x51    0\n",
       "x52    0\n",
       "x53    0\n",
       "x54    0\n",
       "x55    0\n",
       "x56    0\n",
       "x57    0\n",
       "x58    0\n",
       "x59    0\n",
       "x60    0\n",
       "x61    0\n",
       "x62    0\n",
       "x63    0\n",
       "x64    0\n",
       "x65    0\n",
       "x66    0\n",
       "dtype: int64"
      ]
     },
     "execution_count": 83,
     "metadata": {},
     "output_type": "execute_result"
    }
   ],
   "source": [
    "test_data.isnull().sum()"
   ]
  },
  {
   "cell_type": "code",
   "execution_count": 143,
   "metadata": {
    "collapsed": false
   },
   "outputs": [
    {
     "data": {
      "text/html": [
       "<div>\n",
       "<table border=\"1\" class=\"dataframe\">\n",
       "  <thead>\n",
       "    <tr style=\"text-align: right;\">\n",
       "      <th></th>\n",
       "      <th>x1</th>\n",
       "      <th>x2</th>\n",
       "      <th>x3</th>\n",
       "      <th>x4</th>\n",
       "      <th>x6</th>\n",
       "      <th>x7</th>\n",
       "      <th>x8</th>\n",
       "      <th>x9</th>\n",
       "      <th>x10</th>\n",
       "      <th>x11</th>\n",
       "      <th>...</th>\n",
       "      <th>x62</th>\n",
       "      <th>x63</th>\n",
       "      <th>x66</th>\n",
       "      <th>x5_C</th>\n",
       "      <th>x5_E</th>\n",
       "      <th>x13_beta</th>\n",
       "      <th>x13_chi</th>\n",
       "      <th>x64_Mp</th>\n",
       "      <th>x65_PT</th>\n",
       "      <th>x65_ST</th>\n",
       "    </tr>\n",
       "  </thead>\n",
       "  <tbody>\n",
       "    <tr>\n",
       "      <th>0</th>\n",
       "      <td>30</td>\n",
       "      <td>1</td>\n",
       "      <td>1</td>\n",
       "      <td>0</td>\n",
       "      <td>16</td>\n",
       "      <td>5</td>\n",
       "      <td>2</td>\n",
       "      <td>28</td>\n",
       "      <td>148.1</td>\n",
       "      <td>59.4</td>\n",
       "      <td>...</td>\n",
       "      <td>0</td>\n",
       "      <td>1</td>\n",
       "      <td>1</td>\n",
       "      <td>0</td>\n",
       "      <td>0</td>\n",
       "      <td>1</td>\n",
       "      <td>0</td>\n",
       "      <td>1</td>\n",
       "      <td>0</td>\n",
       "      <td>0</td>\n",
       "    </tr>\n",
       "    <tr>\n",
       "      <th>1</th>\n",
       "      <td>41</td>\n",
       "      <td>0</td>\n",
       "      <td>1</td>\n",
       "      <td>1</td>\n",
       "      <td>8</td>\n",
       "      <td>3</td>\n",
       "      <td>9</td>\n",
       "      <td>34</td>\n",
       "      <td>143.4</td>\n",
       "      <td>162.1</td>\n",
       "      <td>...</td>\n",
       "      <td>0</td>\n",
       "      <td>0</td>\n",
       "      <td>1</td>\n",
       "      <td>1</td>\n",
       "      <td>0</td>\n",
       "      <td>0</td>\n",
       "      <td>0</td>\n",
       "      <td>0</td>\n",
       "      <td>1</td>\n",
       "      <td>0</td>\n",
       "    </tr>\n",
       "    <tr>\n",
       "      <th>2</th>\n",
       "      <td>24</td>\n",
       "      <td>0</td>\n",
       "      <td>1</td>\n",
       "      <td>0</td>\n",
       "      <td>5</td>\n",
       "      <td>1</td>\n",
       "      <td>6</td>\n",
       "      <td>27</td>\n",
       "      <td>199.2</td>\n",
       "      <td>10.7</td>\n",
       "      <td>...</td>\n",
       "      <td>0</td>\n",
       "      <td>1</td>\n",
       "      <td>1</td>\n",
       "      <td>0</td>\n",
       "      <td>1</td>\n",
       "      <td>0</td>\n",
       "      <td>1</td>\n",
       "      <td>1</td>\n",
       "      <td>0</td>\n",
       "      <td>1</td>\n",
       "    </tr>\n",
       "    <tr>\n",
       "      <th>3</th>\n",
       "      <td>36</td>\n",
       "      <td>1</td>\n",
       "      <td>1</td>\n",
       "      <td>0</td>\n",
       "      <td>17</td>\n",
       "      <td>11</td>\n",
       "      <td>8</td>\n",
       "      <td>35</td>\n",
       "      <td>99.4</td>\n",
       "      <td>85.5</td>\n",
       "      <td>...</td>\n",
       "      <td>0</td>\n",
       "      <td>0</td>\n",
       "      <td>1</td>\n",
       "      <td>0</td>\n",
       "      <td>0</td>\n",
       "      <td>1</td>\n",
       "      <td>0</td>\n",
       "      <td>1</td>\n",
       "      <td>0</td>\n",
       "      <td>0</td>\n",
       "    </tr>\n",
       "    <tr>\n",
       "      <th>4</th>\n",
       "      <td>19</td>\n",
       "      <td>0</td>\n",
       "      <td>1</td>\n",
       "      <td>1</td>\n",
       "      <td>1</td>\n",
       "      <td>0</td>\n",
       "      <td>14</td>\n",
       "      <td>27</td>\n",
       "      <td>104.0</td>\n",
       "      <td>10.5</td>\n",
       "      <td>...</td>\n",
       "      <td>0</td>\n",
       "      <td>1</td>\n",
       "      <td>1</td>\n",
       "      <td>1</td>\n",
       "      <td>0</td>\n",
       "      <td>0</td>\n",
       "      <td>0</td>\n",
       "      <td>0</td>\n",
       "      <td>1</td>\n",
       "      <td>0</td>\n",
       "    </tr>\n",
       "  </tbody>\n",
       "</table>\n",
       "<p>5 rows × 69 columns</p>\n",
       "</div>"
      ],
      "text/plain": [
       "   x1  x2  x3  x4  x6  x7  x8  x9    x10    x11   ...    x62  x63  x66  x5_C  \\\n",
       "0  30   1   1   0  16   5   2  28  148.1   59.4   ...      0    1    1     0   \n",
       "1  41   0   1   1   8   3   9  34  143.4  162.1   ...      0    0    1     1   \n",
       "2  24   0   1   0   5   1   6  27  199.2   10.7   ...      0    1    1     0   \n",
       "3  36   1   1   0  17  11   8  35   99.4   85.5   ...      0    0    1     0   \n",
       "4  19   0   1   1   1   0  14  27  104.0   10.5   ...      0    1    1     1   \n",
       "\n",
       "   x5_E  x13_beta  x13_chi  x64_Mp  x65_PT  x65_ST  \n",
       "0     0         1        0       1       0       0  \n",
       "1     0         0        0       0       1       0  \n",
       "2     1         0        1       1       0       1  \n",
       "3     0         1        0       1       0       0  \n",
       "4     0         0        0       0       1       0  \n",
       "\n",
       "[5 rows x 69 columns]"
      ]
     },
     "execution_count": 143,
     "metadata": {},
     "output_type": "execute_result"
    }
   ],
   "source": [
    "cat_cols = [col for col in test_data.columns \n",
    "           if test_data[col].dtype=='object']\n",
    "ord_cols = [col for col in test_data.columns\n",
    "           if test_data[col].dtype in('float64','int64')]\n",
    "dum_data = pd.get_dummies(test_data[cat_cols],drop_first='True')\n",
    "dat = pd.concat([test_data[ord_cols],dum_data],axis=1)\n",
    "dat.head()"
   ]
  },
  {
   "cell_type": "code",
   "execution_count": 144,
   "metadata": {
    "collapsed": false
   },
   "outputs": [],
   "source": [
    "test_col = (dat.columns).tolist()\n",
    "train_col = (x.columns).tolist()"
   ]
  },
  {
   "cell_type": "code",
   "execution_count": 150,
   "metadata": {
    "collapsed": false
   },
   "outputs": [
    {
     "data": {
      "text/plain": [
       "74"
      ]
     },
     "execution_count": 150,
     "metadata": {},
     "output_type": "execute_result"
    }
   ],
   "source": [
    "len(train_col)"
   ]
  },
  {
   "cell_type": "code",
   "execution_count": 151,
   "metadata": {
    "collapsed": false
   },
   "outputs": [
    {
     "data": {
      "text/plain": [
       "69"
      ]
     },
     "execution_count": 151,
     "metadata": {},
     "output_type": "execute_result"
    }
   ],
   "source": [
    "len(test_col)"
   ]
  },
  {
   "cell_type": "code",
   "execution_count": 152,
   "metadata": {
    "collapsed": false
   },
   "outputs": [
    {
     "name": "stdout",
     "output_type": "stream",
     "text": [
      "{'x5_D', 'x64_Mm', 'x5_B', 'x64_Mk', 'x65_NST'}\n"
     ]
    }
   ],
   "source": [
    "diff=set(train_col)-set(test_col)\n",
    "print(diff)"
   ]
  },
  {
   "cell_type": "code",
   "execution_count": 153,
   "metadata": {
    "collapsed": false
   },
   "outputs": [],
   "source": [
    "missing_cols=list(diff)"
   ]
  },
  {
   "cell_type": "code",
   "execution_count": 154,
   "metadata": {
    "collapsed": false
   },
   "outputs": [],
   "source": [
    "for i in missing_cols:\n",
    "    dat[i]=0"
   ]
  },
  {
   "cell_type": "code",
   "execution_count": 155,
   "metadata": {
    "collapsed": false
   },
   "outputs": [
    {
     "data": {
      "text/plain": [
       "(1647, 74)"
      ]
     },
     "execution_count": 155,
     "metadata": {},
     "output_type": "execute_result"
    }
   ],
   "source": [
    "dat.shape"
   ]
  },
  {
   "cell_type": "code",
   "execution_count": 156,
   "metadata": {
    "collapsed": false
   },
   "outputs": [
    {
     "name": "stdout",
     "output_type": "stream",
     "text": [
      "set()\n"
     ]
    }
   ],
   "source": [
    "test_col = (dat.columns).tolist()\n",
    "train_col = (x.columns).tolist()\n",
    "diff=set(train_col)-set(test_col)\n",
    "print(diff)"
   ]
  },
  {
   "cell_type": "code",
   "execution_count": 160,
   "metadata": {
    "collapsed": true
   },
   "outputs": [],
   "source": [
    "prediction = final_model.predict(dat)"
   ]
  },
  {
   "cell_type": "code",
   "execution_count": 162,
   "metadata": {
    "collapsed": false
   },
   "outputs": [],
   "source": [
    "pred = pd.DataFrame(data=prediction)"
   ]
  },
  {
   "cell_type": "code",
   "execution_count": 164,
   "metadata": {
    "collapsed": false
   },
   "outputs": [
    {
     "data": {
      "text/plain": [
       "-1    891\n",
       " 1    756\n",
       "Name: 0, dtype: int64"
      ]
     },
     "execution_count": 164,
     "metadata": {},
     "output_type": "execute_result"
    }
   ],
   "source": [
    "pred[0].value_counts()"
   ]
  },
  {
   "cell_type": "code",
   "execution_count": 165,
   "metadata": {
    "collapsed": true
   },
   "outputs": [],
   "source": [
    "pred.to_csv('BMI555IEE520_Results2018_SidharthChandrasekaran.csv')"
   ]
  }
 ],
 "metadata": {
  "anaconda-cloud": {},
  "kernelspec": {
   "display_name": "Python [default]",
   "language": "python",
   "name": "python3"
  },
  "language_info": {
   "codemirror_mode": {
    "name": "ipython",
    "version": 3
   },
   "file_extension": ".py",
   "mimetype": "text/x-python",
   "name": "python",
   "nbconvert_exporter": "python",
   "pygments_lexer": "ipython3",
   "version": "3.5.2"
  }
 },
 "nbformat": 4,
 "nbformat_minor": 1
}
